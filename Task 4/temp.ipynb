{
 "cells": [
  {
   "cell_type": "code",
   "execution_count": 5,
   "metadata": {},
   "outputs": [
    {
     "name": "stdout",
     "output_type": "stream",
     "text": [
      "[8, 64, 64, 64, 64, 64, 4]\n"
     ]
    }
   ],
   "source": [
    "obs_dim = 8\n",
    "act_dim = 4\n",
    "hidden_sizes = [64]*5\n",
    "\n",
    "sizes = [obs_dim] + list(hidden_sizes) + [act_dim]\n",
    "\n",
    "print(sizes)"
   ]
  },
  {
   "cell_type": "code",
   "execution_count": 10,
   "metadata": {},
   "outputs": [],
   "source": [
    "import torch\n",
    "from torch.optim import Adam\n",
    "import torch.nn as nn\n",
    "from solution import Agent "
   ]
  },
  {
   "cell_type": "code",
   "execution_count": 11,
   "metadata": {},
   "outputs": [],
   "source": [
    "from lunar_lander import LunarLander\n",
    "# from gym.wrappers.monitoring.video_recorder import VideoRecorder\n",
    "\n",
    "env = LunarLander()\n",
    "env.seed(0)\n",
    "\n",
    "obs_dim = [8]\n",
    "act_dim = []\n",
    "\n",
    "# initialize agent\n",
    "agent = Agent(env)"
   ]
  },
  {
   "cell_type": "code",
   "execution_count": 12,
   "metadata": {},
   "outputs": [
    {
     "data": {
      "text/plain": [
       "Actor(\n",
       "  (logits_net): Sequential(\n",
       "    (layer0): Linear(in_features=8, out_features=64, bias=True)\n",
       "    (activation0): Tanh()\n",
       "    (layer1): Linear(in_features=64, out_features=64, bias=True)\n",
       "    (activation1): Tanh()\n",
       "    (layer2): Linear(in_features=64, out_features=4, bias=True)\n",
       "    (activation2): Identity()\n",
       "  )\n",
       ")"
      ]
     },
     "execution_count": 12,
     "metadata": {},
     "output_type": "execute_result"
    }
   ],
   "source": [
    "agent.actor"
   ]
  },
  {
   "cell_type": "code",
   "execution_count": 14,
   "metadata": {},
   "outputs": [
    {
     "data": {
      "text/plain": [
       "Sequential(\n",
       "  (conv1): Conv2d(1, 20, kernel_size=(5, 5), stride=(1, 1))\n",
       "  (relu1): ReLU()\n",
       "  (conv2): Conv2d(20, 64, kernel_size=(5, 5), stride=(1, 1))\n",
       "  (relu2): ReLU()\n",
       ")"
      ]
     },
     "execution_count": 14,
     "metadata": {},
     "output_type": "execute_result"
    }
   ],
   "source": [
    "from collections import OrderedDict\n",
    "\n",
    "model = nn.Sequential(OrderedDict([\n",
    "          ('conv1', nn.Conv2d(1,20,5)),\n",
    "          ('relu1', nn.ReLU()),\n",
    "          ('conv2', nn.Conv2d(20,64,5)),\n",
    "          ('relu2', nn.ReLU())\n",
    "        ]))\n",
    "\n",
    "model"
   ]
  },
  {
   "cell_type": "code",
   "execution_count": 30,
   "metadata": {},
   "outputs": [
    {
     "name": "stdout",
     "output_type": "stream",
     "text": [
      "[ 3  4  5  6  7  8  9 10 11 12 13 14 15 16 17 18 19]\n",
      "[ 3  4  5  6  7  8  9 10 11 12 13 14 15 16 17 18 19]\n",
      "[  3   7  12  18  25  33  42  52  63  75  88 102 117 133 150 168 187]\n",
      "[45 45 44 42 39 35 30 24 17  9]\n"
     ]
    }
   ],
   "source": [
    "import numpy as np\n",
    "\n",
    "_ = np.arange(20)\n",
    "ptr = 20\n",
    "path_start_idx = 3\n",
    "path_slice = slice(path_start_idx, ptr)\n",
    "\n",
    "print(_[path_slice])\n",
    "\n",
    "print(_[path_start_idx:ptr])\n",
    "\n",
    "print(np.cumsum(_[path_start_idx:ptr]))\n",
    "\n",
    "x = _[0:10]\n",
    "gamma = 1\n",
    "discount_cumsum = np.zeros_like(x)\n",
    "discount_cumsum[-1] = x[-1]\n",
    "for t in reversed(range(x.shape[0] - 1)):\n",
    "    discount_cumsum[t] = x[t] + gamma * discount_cumsum[t + 1]\n",
    "\n",
    "print(discount_cumsum)"
   ]
  },
  {
   "cell_type": "code",
   "execution_count": 33,
   "metadata": {},
   "outputs": [
    {
     "data": {
      "text/plain": [
       "array([15., 14., 12.,  9.,  5.])"
      ]
     },
     "execution_count": 33,
     "metadata": {},
     "output_type": "execute_result"
    }
   ],
   "source": [
    "from scipy import signal\n",
    "\n",
    "x = [1,2,3,4,5]\n",
    "coef = 1\n",
    "\n",
    "signal.lfilter([1], [1, float(-coef)], x[::-1], axis=0)[::-1]"
   ]
  },
  {
   "cell_type": "code",
   "execution_count": 8,
   "metadata": {},
   "outputs": [
    {
     "name": "stdout",
     "output_type": "stream",
     "text": [
      "[8, 64, 64, 4] 4\n",
      "<class 'torch.nn.modules.activation.Tanh'>\n",
      "<class 'torch.nn.modules.linear.Identity'>\n",
      "0\n",
      "1\n",
      "2\n"
     ]
    },
    {
     "name": "stderr",
     "output_type": "stream",
     "text": [
      "/Library/Frameworks/Python.framework/Versions/3.9/lib/python3.9/site-packages/ipykernel/ipkernel.py:283: DeprecationWarning: `should_run_async` will not call `transform_cell` automatically in the future. Please pass the result to `transformed_cell` argument and any exception that happen during thetransform in `preprocessing_exc_tuple` in IPython 7.17 and above.\n",
      "  and should_run_async(code)\n"
     ]
    }
   ],
   "source": [
    "\n",
    "import random\n",
    "\n",
    "import numpy as np\n",
    "import matplotlib.pyplot as plt\n",
    "\n",
    "import time\n",
    "\n",
    "import scipy.signal\n",
    "from gym.spaces import Box, Discrete\n",
    "\n",
    "import torch\n",
    "from torch.optim import Adam\n",
    "import torch.nn as nn\n",
    "\n",
    "## Newly added\n",
    "from torch.distributions import Categorical\n",
    "import torch.nn.functional as F\n",
    "\n",
    "def mlp(sizes, activation, output_activation=nn.Identity):\n",
    "    \"\"\"\n",
    "    The basic multilayer perceptron architecture used.\n",
    "\n",
    "    Parameters\n",
    "    ----------\n",
    "    sizes: List\n",
    "        List of feature sizes, i.e., \n",
    "            [indput_dim, hidden_layer_1, ..., hidden_layer_n_dim, output_dim] \n",
    "\n",
    "    activation: nn.Module\n",
    "        Activation function for the hidden layers.\n",
    "\n",
    "    output_activation: nn.Module\n",
    "        Activation function for the output layer\n",
    "\n",
    "\n",
    "    Returns\n",
    "    -------\n",
    "    mlp: nn.Module\n",
    "\n",
    "    \"\"\"\n",
    "\n",
    "    # TODO: Implement this function.\n",
    "    # Hint: Use nn.Sequential to stack multiple layers of the network.\n",
    "    print(sizes, len(sizes))\n",
    "    print(activation)\n",
    "    print(output_activation)\n",
    "    mlp = nn.Sequential()\n",
    "    for i in range(len(sizes)-1):\n",
    "        print(i)\n",
    "        mlp.add_module('layer' + str(i), nn.Linear(sizes[i],sizes[i+1]))\n",
    "        if i != len(sizes)-2:\n",
    "            mlp.add_module('activation' + str(i), activation())\n",
    "        else:\n",
    "            mlp.add_module('activation' + str(i), output_activation())\n",
    "\n",
    "    return mlp\n",
    "\n",
    "class Actor(nn.Module):\n",
    "    \"\"\"A class for the policy network.\"\"\"\n",
    "\n",
    "    def __init__(self, obs_dim, act_dim, hidden_sizes, activation):\n",
    "        super().__init__()\n",
    "        self.logits_net = mlp([obs_dim] + list(hidden_sizes) + [act_dim], activation)\n",
    "\n",
    "hid = 64  # layer width of networks\n",
    "l = 2  # layer number of networks\n",
    "hidden_sizes = [hid]*l\n",
    "obs_dim = 8\n",
    "activation=nn.Tanh\n",
    "\n",
    "actor =  Actor(obs_dim, 4, hidden_sizes, activation)\n"
   ]
  },
  {
   "cell_type": "code",
   "execution_count": 15,
   "metadata": {},
   "outputs": [
    {
     "name": "stdout",
     "output_type": "stream",
     "text": [
      "[1 2 1]\n"
     ]
    }
   ],
   "source": [
    "rews = np.append([1,2], 1)\n",
    "print(rews)"
   ]
  },
  {
   "cell_type": "code",
   "execution_count": 1,
   "metadata": {},
   "outputs": [
    {
     "ename": "AttributeError",
     "evalue": "'ImageData' object has no attribute 'data'",
     "output_type": "error",
     "traceback": [
      "\u001b[0;31m---------------------------------------------------------------------------\u001b[0m",
      "\u001b[0;31mAttributeError\u001b[0m                            Traceback (most recent call last)",
      "Cell \u001b[0;32mIn[1], line 8\u001b[0m\n\u001b[1;32m      6\u001b[0m env\u001b[39m.\u001b[39mseed(\u001b[39m0\u001b[39m)\n\u001b[1;32m      7\u001b[0m rec \u001b[39m=\u001b[39m VideoRecorder(env, \u001b[39m\"\u001b[39m\u001b[39mpolicy.mp4\u001b[39m\u001b[39m\"\u001b[39m)\n\u001b[0;32m----> 8\u001b[0m rec\u001b[39m.\u001b[39;49mcapture_frame()\n\u001b[1;32m      9\u001b[0m rec\u001b[39m.\u001b[39mclose()\n",
      "File \u001b[0;32m~/.pyenv/versions/3.8.16/lib/python3.8/site-packages/gym/wrappers/monitoring/video_recorder.py:101\u001b[0m, in \u001b[0;36mVideoRecorder.capture_frame\u001b[0;34m(self)\u001b[0m\n\u001b[1;32m     98\u001b[0m logger\u001b[39m.\u001b[39mdebug(\u001b[39m'\u001b[39m\u001b[39mCapturing video frame: path=\u001b[39m\u001b[39m%s\u001b[39;00m\u001b[39m'\u001b[39m, \u001b[39mself\u001b[39m\u001b[39m.\u001b[39mpath)\n\u001b[1;32m    100\u001b[0m render_mode \u001b[39m=\u001b[39m \u001b[39m'\u001b[39m\u001b[39mansi\u001b[39m\u001b[39m'\u001b[39m \u001b[39mif\u001b[39;00m \u001b[39mself\u001b[39m\u001b[39m.\u001b[39mansi_mode \u001b[39melse\u001b[39;00m \u001b[39m'\u001b[39m\u001b[39mrgb_array\u001b[39m\u001b[39m'\u001b[39m\n\u001b[0;32m--> 101\u001b[0m frame \u001b[39m=\u001b[39m \u001b[39mself\u001b[39;49m\u001b[39m.\u001b[39;49menv\u001b[39m.\u001b[39;49mrender(mode\u001b[39m=\u001b[39;49mrender_mode)\n\u001b[1;32m    103\u001b[0m \u001b[39mif\u001b[39;00m frame \u001b[39mis\u001b[39;00m \u001b[39mNone\u001b[39;00m:\n\u001b[1;32m    104\u001b[0m     \u001b[39mif\u001b[39;00m \u001b[39mself\u001b[39m\u001b[39m.\u001b[39m_async:\n",
      "File \u001b[0;32m~/Desktop/github/uzh/ETH-HS22-PAI/projects/ETH-HS22-PAI/task4_handout/lunar_lander.py:387\u001b[0m, in \u001b[0;36mLunarLander.render\u001b[0;34m(self, mode)\u001b[0m\n\u001b[1;32m    377\u001b[0m     \u001b[39mself\u001b[39m\u001b[39m.\u001b[39mviewer\u001b[39m.\u001b[39mdraw_polyline([(x, flagy1), (x, flagy2)], color\u001b[39m=\u001b[39m(\u001b[39m1\u001b[39m, \u001b[39m1\u001b[39m, \u001b[39m1\u001b[39m))\n\u001b[1;32m    378\u001b[0m     \u001b[39mself\u001b[39m\u001b[39m.\u001b[39mviewer\u001b[39m.\u001b[39mdraw_polygon(\n\u001b[1;32m    379\u001b[0m         [\n\u001b[1;32m    380\u001b[0m             (x, flagy2),\n\u001b[0;32m   (...)\u001b[0m\n\u001b[1;32m    384\u001b[0m         color\u001b[39m=\u001b[39m(\u001b[39m0.8\u001b[39m, \u001b[39m0.8\u001b[39m, \u001b[39m0\u001b[39m),\n\u001b[1;32m    385\u001b[0m     )\n\u001b[0;32m--> 387\u001b[0m \u001b[39mreturn\u001b[39;00m \u001b[39mself\u001b[39;49m\u001b[39m.\u001b[39;49mviewer\u001b[39m.\u001b[39;49mrender(return_rgb_array\u001b[39m=\u001b[39;49mmode \u001b[39m==\u001b[39;49m \u001b[39m\"\u001b[39;49m\u001b[39mrgb_array\u001b[39;49m\u001b[39m\"\u001b[39;49m)\n",
      "File \u001b[0;32m~/.pyenv/versions/3.8.16/lib/python3.8/site-packages/gym/envs/classic_control/rendering.py:105\u001b[0m, in \u001b[0;36mViewer.render\u001b[0;34m(self, return_rgb_array)\u001b[0m\n\u001b[1;32m    103\u001b[0m buffer \u001b[39m=\u001b[39m pyglet\u001b[39m.\u001b[39mimage\u001b[39m.\u001b[39mget_buffer_manager()\u001b[39m.\u001b[39mget_color_buffer()\n\u001b[1;32m    104\u001b[0m image_data \u001b[39m=\u001b[39m buffer\u001b[39m.\u001b[39mget_image_data()\n\u001b[0;32m--> 105\u001b[0m arr \u001b[39m=\u001b[39m np\u001b[39m.\u001b[39mfrombuffer(image_data\u001b[39m.\u001b[39;49mdata, dtype\u001b[39m=\u001b[39mnp\u001b[39m.\u001b[39muint8)\n\u001b[1;32m    106\u001b[0m \u001b[39m# In https://github.com/openai/gym-http-api/issues/2, we\u001b[39;00m\n\u001b[1;32m    107\u001b[0m \u001b[39m# discovered that someone using Xmonad on Arch was having\u001b[39;00m\n\u001b[1;32m    108\u001b[0m \u001b[39m# a window of size 598 x 398, though a 600 x 400 window\u001b[39;00m\n\u001b[1;32m    109\u001b[0m \u001b[39m# was requested. (Guess Xmonad was preserving a pixel for\u001b[39;00m\n\u001b[1;32m    110\u001b[0m \u001b[39m# the boundary.) So we use the buffer height/width rather\u001b[39;00m\n\u001b[1;32m    111\u001b[0m \u001b[39m# than the requested one.\u001b[39;00m\n\u001b[1;32m    112\u001b[0m arr \u001b[39m=\u001b[39m arr\u001b[39m.\u001b[39mreshape(buffer\u001b[39m.\u001b[39mheight, buffer\u001b[39m.\u001b[39mwidth, \u001b[39m4\u001b[39m)\n",
      "\u001b[0;31mAttributeError\u001b[0m: 'ImageData' object has no attribute 'data'"
     ]
    },
    {
     "ename": "",
     "evalue": "",
     "output_type": "error",
     "traceback": [
      "\u001b[1;31mThe Kernel crashed while executing code in the the current cell or a previous cell. Please review the code in the cell(s) to identify a possible cause of the failure. Click <a href='https://aka.ms/vscodeJupyterKernelCrash'>here</a> for more info. View Jupyter <a href='command:jupyter.viewOutput'>log</a> for further details."
     ]
    }
   ],
   "source": [
    "from gym.envs.classic_control import rendering\n",
    "from gym.wrappers.monitoring.video_recorder import VideoRecorder\n",
    "from lunar_lander import LunarLander\n",
    "\n",
    "env = LunarLander()\n",
    "env.seed(0)\n",
    "rec = VideoRecorder(env, \"policy.mp4\")\n",
    "rec.capture_frame()\n",
    "rec.close()\n",
    "\n"
   ]
  },
  {
   "cell_type": "code",
   "execution_count": 1,
   "metadata": {},
   "outputs": [
    {
     "ename": "TypeError",
     "evalue": "__init__() got an unexpected keyword argument 'render_mode'",
     "output_type": "error",
     "traceback": [
      "\u001b[0;31m---------------------------------------------------------------------------\u001b[0m",
      "\u001b[0;31mTypeError\u001b[0m                                 Traceback (most recent call last)",
      "Cell \u001b[0;32mIn[1], line 2\u001b[0m\n\u001b[1;32m      1\u001b[0m \u001b[39mimport\u001b[39;00m \u001b[39mgym\u001b[39;00m\n\u001b[0;32m----> 2\u001b[0m env \u001b[39m=\u001b[39m gym\u001b[39m.\u001b[39;49mmake(\u001b[39m\"\u001b[39;49m\u001b[39mLunarLander-v2\u001b[39;49m\u001b[39m\"\u001b[39;49m, render_mode\u001b[39m=\u001b[39;49m\u001b[39m\"\u001b[39;49m\u001b[39mhuman\u001b[39;49m\u001b[39m\"\u001b[39;49m)\n\u001b[1;32m      3\u001b[0m env\u001b[39m.\u001b[39maction_space\u001b[39m.\u001b[39mseed(\u001b[39m42\u001b[39m)\n\u001b[1;32m      5\u001b[0m observation, info \u001b[39m=\u001b[39m env\u001b[39m.\u001b[39mreset(seed\u001b[39m=\u001b[39m\u001b[39m42\u001b[39m)\n",
      "File \u001b[0;32m~/.pyenv/versions/3.8.16/lib/python3.8/site-packages/gym/envs/registration.py:156\u001b[0m, in \u001b[0;36mmake\u001b[0;34m(id, **kwargs)\u001b[0m\n\u001b[1;32m    155\u001b[0m \u001b[39mdef\u001b[39;00m \u001b[39mmake\u001b[39m(\u001b[39mid\u001b[39m, \u001b[39m*\u001b[39m\u001b[39m*\u001b[39mkwargs):\n\u001b[0;32m--> 156\u001b[0m     \u001b[39mreturn\u001b[39;00m registry\u001b[39m.\u001b[39;49mmake(\u001b[39mid\u001b[39;49m, \u001b[39m*\u001b[39;49m\u001b[39m*\u001b[39;49mkwargs)\n",
      "File \u001b[0;32m~/.pyenv/versions/3.8.16/lib/python3.8/site-packages/gym/envs/registration.py:101\u001b[0m, in \u001b[0;36mEnvRegistry.make\u001b[0;34m(self, path, **kwargs)\u001b[0m\n\u001b[1;32m     99\u001b[0m     logger\u001b[39m.\u001b[39minfo(\u001b[39m'\u001b[39m\u001b[39mMaking new env: \u001b[39m\u001b[39m%s\u001b[39;00m\u001b[39m'\u001b[39m, path)\n\u001b[1;32m    100\u001b[0m spec \u001b[39m=\u001b[39m \u001b[39mself\u001b[39m\u001b[39m.\u001b[39mspec(path)\n\u001b[0;32m--> 101\u001b[0m env \u001b[39m=\u001b[39m spec\u001b[39m.\u001b[39;49mmake(\u001b[39m*\u001b[39;49m\u001b[39m*\u001b[39;49mkwargs)\n\u001b[1;32m    102\u001b[0m \u001b[39m# We used to have people override _reset/_step rather than\u001b[39;00m\n\u001b[1;32m    103\u001b[0m \u001b[39m# reset/step. Set _gym_disable_underscore_compat = True on\u001b[39;00m\n\u001b[1;32m    104\u001b[0m \u001b[39m# your environment if you use these methods and don't want\u001b[39;00m\n\u001b[1;32m    105\u001b[0m \u001b[39m# compatibility code to be invoked.\u001b[39;00m\n\u001b[1;32m    106\u001b[0m \u001b[39mif\u001b[39;00m \u001b[39mhasattr\u001b[39m(env, \u001b[39m\"\u001b[39m\u001b[39m_reset\u001b[39m\u001b[39m\"\u001b[39m) \u001b[39mand\u001b[39;00m \u001b[39mhasattr\u001b[39m(env, \u001b[39m\"\u001b[39m\u001b[39m_step\u001b[39m\u001b[39m\"\u001b[39m) \u001b[39mand\u001b[39;00m \u001b[39mnot\u001b[39;00m \u001b[39mgetattr\u001b[39m(env, \u001b[39m\"\u001b[39m\u001b[39m_gym_disable_underscore_compat\u001b[39m\u001b[39m\"\u001b[39m, \u001b[39mFalse\u001b[39;00m):\n",
      "File \u001b[0;32m~/.pyenv/versions/3.8.16/lib/python3.8/site-packages/gym/envs/registration.py:73\u001b[0m, in \u001b[0;36mEnvSpec.make\u001b[0;34m(self, **kwargs)\u001b[0m\n\u001b[1;32m     71\u001b[0m \u001b[39melse\u001b[39;00m:\n\u001b[1;32m     72\u001b[0m     \u001b[39mcls\u001b[39m \u001b[39m=\u001b[39m load(\u001b[39mself\u001b[39m\u001b[39m.\u001b[39m_entry_point)\n\u001b[0;32m---> 73\u001b[0m     env \u001b[39m=\u001b[39m \u001b[39mcls\u001b[39;49m(\u001b[39m*\u001b[39;49m\u001b[39m*\u001b[39;49m_kwargs)\n\u001b[1;32m     75\u001b[0m \u001b[39m# Make the enviroment aware of which spec it came from.\u001b[39;00m\n\u001b[1;32m     76\u001b[0m env\u001b[39m.\u001b[39munwrapped\u001b[39m.\u001b[39mspec \u001b[39m=\u001b[39m \u001b[39mself\u001b[39m\n",
      "\u001b[0;31mTypeError\u001b[0m: __init__() got an unexpected keyword argument 'render_mode'"
     ]
    }
   ],
   "source": [
    "import gym\n",
    "env = gym.make(\"LunarLander-v2\", render_mode=\"human\")\n",
    "env.action_space.seed(42)\n",
    "\n",
    "observation, info = env.reset(seed=42)\n",
    "\n",
    "for _ in range(1000):\n",
    "    observation, reward, terminated, truncated, info = env.step(env.action_space.sample())\n",
    "\n",
    "    if terminated or truncated:\n",
    "        observation, info = env.reset()\n",
    "\n",
    "env.close()"
   ]
  },
  {
   "cell_type": "code",
   "execution_count": null,
   "metadata": {},
   "outputs": [],
   "source": []
  }
 ],
 "metadata": {
  "kernelspec": {
   "display_name": "Python 3",
   "language": "python",
   "name": "python3"
  },
  "language_info": {
   "codemirror_mode": {
    "name": "ipython",
    "version": 3
   },
   "file_extension": ".py",
   "mimetype": "text/x-python",
   "name": "python",
   "nbconvert_exporter": "python",
   "pygments_lexer": "ipython3",
   "version": "3.8.16"
  },
  "orig_nbformat": 4,
  "vscode": {
   "interpreter": {
    "hash": "949777d72b0d2535278d3dc13498b2535136f6dfe0678499012e853ee9abcab1"
   }
  }
 },
 "nbformat": 4,
 "nbformat_minor": 2
}
